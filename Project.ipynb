{
 "cells": [
  {
   "cell_type": "markdown",
   "id": "2fceca84-977b-4151-9103-4215607ce7b8",
   "metadata": {},
   "source": [
    "---\n",
    "# Import thư viện\n",
    "Trong đồ án, ngoài những thư viện đẵ có trong môi trường `p4ds`, nhóm sẽ sử dụng thêm các thư viện sau:\n",
    "- `seaborn`: thư viện tập trung hỗ trợ vẽ các biểu đồ thống kê giúp cho các câu lệnh thực hiện vẽ biểu đồ đơn giản, ngắn gọn hơn.\n",
    "- `statsmodels`: hỗ trợ phân tích thống kê, qua đó có thể hiểu rõ hơn một biến phụ thuộc có thể được biểu diễn bởi các biến độc lập theo công thức nào và liệu công thức đó có ý nghĩa hay không."
   ]
  },
  {
   "cell_type": "code",
   "execution_count": null,
   "id": "1404d499-1c9d-4b98-9d40-6f9b4bafb3a8",
   "metadata": {},
   "outputs": [],
   "source": [
    "import pandas as pd\n",
    "import numpy as np\n",
    "import matplotlib.pyplot as plt\n",
    "import seaborn as sns\n",
    "import statsmodels.api as sm\n",
    "pd.set_option(\"display.max_columns\", None)"
   ]
  },
  {
   "cell_type": "code",
   "execution_count": null,
   "id": "4715479e-de9d-4e62-b05e-aa0b53a4955f",
   "metadata": {},
   "outputs": [],
   "source": [
    "# Thu thập dữ liệu"
   ]
  },
  {
   "cell_type": "markdown",
   "id": "34f89b4d-514f-4a15-a722-90b11155ebcd",
   "metadata": {},
   "source": [
    "- Tập dữ liệu (https://www.kaggle.com/mmattson/who-national-life-expectancy) được sử dụng trong đồ án của nhóm có chủ đề về các yếu tố liên quan và/hoặc có thể gây ảnh hưởng đếntuổi thọ trung bình của người dân ở các quốc gia trên thế giới. Tập dữ liệu này được thu thập và đăng tải trên Kaggle bởi người dùng MMattson với giấy phép Creative Common Public Domain - CC0 cho phép sử dụng tập dữ liệu tùy ý mà không cần xin phép.\n",
    "\n",
    "- Theo mô tả, tập dữ liệu trên được thu thập từ 2 nguồn là GHO - Global Health Observatory và UNESCO, với các số liệu trong khoảng thời gian từ năm 2000 - 2016. Về phần dữ liệu từ UNESCO tác giả đã truy cập vào trang web về dữ liệu Thống kê về Giáo dục các Quốc gia của Viện thống kê UNESCO và thu thập dữ liệu thủ công. \n",
    "- Dữ liệu từ GHO được thu thập sử dụng thư viện request thông qua GHO Data API portal.\n",
    "- Link thu thập dữ liệu trên Kaggle: https://www.kaggle.com/mmattson/template-to-generate-the-dataset\n",
    "____"
   ]
  },
  {
   "cell_type": "code",
   "execution_count": null,
   "id": "6d86022c-9871-413f-8c97-b9cd628ad547",
   "metadata": {},
   "outputs": [],
   "source": [
    "data_df = pd.read_csv('Data/who_life_exp.csv')"
   ]
  },
  {
   "cell_type": "code",
   "execution_count": null,
   "id": "36d168ee-19d9-404c-a96e-e807069730f3",
   "metadata": {},
   "outputs": [],
   "source": [
    "data_df.head()"
   ]
  },
  {
   "cell_type": "markdown",
   "id": "c57523b3-e603-48fb-8e6f-63f2bec4d884",
   "metadata": {},
   "source": [
    "# Khám Phá dữ liệu"
   ]
  },
  {
   "cell_type": "markdown",
   "id": "fc989a66-5d52-4004-b13c-bb2befa64bfe",
   "metadata": {},
   "source": [
    "## Dữ liệu có bao nhiêu dòng và bao nhiêu cột?"
   ]
  },
  {
   "cell_type": "code",
   "execution_count": null,
   "id": "22cae282-a211-4d30-9ea6-6fd6b6d39ffd",
   "metadata": {},
   "outputs": [],
   "source": [
    "num_rows, num_cols = data_df.shape"
   ]
  },
  {
   "cell_type": "code",
   "execution_count": null,
   "id": "fd9b8a4d-1e95-435a-85d3-ba325ac80a30",
   "metadata": {},
   "outputs": [],
   "source": [
    "num_rows, num_cols"
   ]
  },
  {
   "cell_type": "markdown",
   "id": "ef387b01-8a0b-4512-9356-29e47f8b9500",
   "metadata": {},
   "source": [
    "## Mỗi dòng có ý nghĩa gì? Có vấn đề các dòng có ý nghĩa khác nhau không?"
   ]
  },
  {
   "cell_type": "markdown",
   "id": "9e0a94f6-4834-4a01-9b9e-f56dac5626ef",
   "metadata": {},
   "source": [
    "\n",
    "- Mỗi dòng mang thông tin về tuổi thọ trung bình một quốc gia trong một năm và các yếu tố khác liên quan như là chỉ số khối cơ thể, lượng cồn tiêu thụ trung bình, tỷ lệ người dân có nước sạch cơ bản, đạt miễn dịch một số loại bệnh, một số thông tin về nền kinh tế quốc gia, ... \n",
    "- Có vẻ không có dòng nào có ý nghĩa khác so với các dòng còn lại."
   ]
  },
  {
   "cell_type": "markdown",
   "id": "ce97f742-6758-476c-a1d0-05466a8c86f3",
   "metadata": {},
   "source": [
    "## Dữ liệu có các dòng bị lặp không?"
   ]
  },
  {
   "cell_type": "code",
   "execution_count": null,
   "id": "08e6ac51-a1a6-4cdc-afe6-779c3c189736",
   "metadata": {},
   "outputs": [],
   "source": [
    "data_df.duplicated().sum()"
   ]
  },
  {
   "cell_type": "markdown",
   "id": "f08fee0a-0394-46c6-9a09-9f5ce6bfe460",
   "metadata": {},
   "source": [
    "- Vậy bộ dữ liệu này không có dòng nào bị lặp"
   ]
  },
  {
   "cell_type": "markdown",
   "id": "5f85d233-6bd7-4f75-aaa5-14dd6df77751",
   "metadata": {},
   "source": [
    "## Mỗi cột có ý nghĩa gì?"
   ]
  },
  {
   "cell_type": "markdown",
   "id": "a1d2d309-087b-44f7-9632-cf7047bceb6f",
   "metadata": {},
   "source": [
    "|Thuộc tính | Mô tả |\n",
    "|:------:| ---|\n",
    "|Country| Tên quốc gia|\n",
    "|country_code| Định danh ba chữ cái của một quốc gia|\n",
    "|region| Khu vực toàn cầu của đất nước|\n",
    "|year| Năm|\n",
    "|life_expect| Tuổi thọ trung bình (tuổi)|\n",
    "|life_exp60| Tuổi thọ trung bình 60(tuổi)|\n",
    "|adult_mortality|Tỷ lệ tử vong ở người trưởng thành (xác suất tử vong từ 15 đến 60 tuổi trên 1000 dân số)|\n",
    "|infant_mort|Tỷ lệ tử vong dưới 1 tuổi|\n",
    "|age1-4mort|Tỷ lệ tử vong từ 1 đến 4 tuổi|\n",
    "|alcohol|Rượu, mức tiêu thụ bình quân đầu người (15+) được ghi nhận|\n",
    "|bmi|BMI trung bình (ước tính chuẩn hóa theo độ tuổi)|\n",
    "|age5-19thinness|Tỷ lệ gầy ở trẻ em và thanh thiếu niên|\n",
    "|age5-19obesity\t|Tỷ lệ béo phì ở trẻ em và thanh thiếu niên|\n",
    "|hepatitis|Tỷ lệ tiêm chủng viêm gan B (HepB) ở trẻ 1 tuổi (%)|\n",
    "|measles|Tỷ lệ tiêm chủng liều đầu tiên (MCV1) có chứa vắc xin sởi cho trẻ 1 tuổi (%)|\n",
    "|polio| Tỷ lệ tiêm chủng bại liệt (Pol3) ở trẻ 1 tuổi (%)|\n",
    "|diphtheria|Tỷ lệ tiêm chủng bạch hầu, uốn ván và ho gà (DTP3) cho trẻ 1 tuổi (%)|\n",
    "|basic_water|Tỷ lệ dân số được tiếp cận dịch vụ nước sạch tối thiểu|\n",
    "|doctors|Bác sĩ y khoa (trên 10.000)|\n",
    "|hospitals|Số lượng bệnh viện trên 100.000 dân|\n",
    "|gni_capita|Thu nhập quốc dân trên đầu người (tổng thu thập mà người dân và doanh nghiệp của quốc gia kiếm được)|\n",
    "|gghe-d\t|Chi tiêu từ ngân sách chính phủ cho lĩnh vực y tế tính theo tỷ lệ phần trăm của tổng sản phẩm quốc nội (GDP) (%)|\n",
    "|che_gdp|Chi phí người dân bỏ ra cho dịch vụ y tế (CHE) tính theo phần trăm tổng sản phẩm quốc nội (GDP) (%)|\n",
    "|une_pop|Dân số (hàng nghìn)|\n",
    "|une_infant|Tỷ lệ tử vong, trẻ sơ sinh (trên 1.000 trẻ sống)|\n",
    "|une_life|Tuổi thọ trung bình|\n",
    "|une_hiv|Tỷ lệ nhiễm HIV, tổng số (\\% dân số từ 15-49 tuổi)|\n",
    "|une_gni|Thu nhập quốc dân trên đầu người|\n",
    "|une_poverty|Tỷ lệ số người nghèo có mức sống 1,90 đô la một ngày (PPP) (\\% dân số)|\n",
    "|une_edu_spend|Chi tiêu của chính phủ cho giáo dục tính theo phần trăm GDP (\\%)|\n",
    "|une_literacy|Tỷ lệ người lớn biết chữ, dân số trên 15 tuổi, cả hai giới (\\%)|\n",
    "|une_school|Số năm đi học trung bình (ISCED 1 trở lên), dân số từ 25 tuổi trở lên, cả hai giới|\n",
    "\n",
    "**Các thuộc tính có tên `une_`** được thống kê bởi tổ chức UNESCO.\n",
    "\n",
    "**Các thuộc tính còn lại** được thống kê bởi GHO (Global Health Observatory).\n"
   ]
  },
  {
   "cell_type": "code",
   "execution_count": null,
   "id": "87f572e6-3ab9-4893-a1d2-08921c78c9ab",
   "metadata": {},
   "outputs": [],
   "source": []
  }
 ],
 "metadata": {
  "kernelspec": {
   "display_name": "Python 3 (ipykernel)",
   "language": "python",
   "name": "python3"
  },
  "language_info": {
   "codemirror_mode": {
    "name": "ipython",
    "version": 3
   },
   "file_extension": ".py",
   "mimetype": "text/x-python",
   "name": "python",
   "nbconvert_exporter": "python",
   "pygments_lexer": "ipython3",
   "version": "3.10.8"
  }
 },
 "nbformat": 4,
 "nbformat_minor": 5
}
