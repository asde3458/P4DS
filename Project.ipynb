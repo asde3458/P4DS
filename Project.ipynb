{
 "cells": [
  {
   "cell_type": "code",
   "execution_count": null,
   "id": "3cfa789a-45b9-4f9b-a3d7-68d209be479f",
   "metadata": {},
   "outputs": [],
   "source": [
    "import pandas as pd\n",
    "import numpy as np\n",
    "import matplotlib.pyplot as plt\n",
    "import seaborn as sns\n",
    "import statsmodels.api as sm\n",
    "pd.set_option(\"display.max_columns\", None)"
   ]
  },
  {
   "cell_type": "code",
   "execution_count": null,
   "id": "1404d499-1c9d-4b98-9d40-6f9b4bafb3a8",
   "metadata": {},
   "outputs": [],
   "source": [
    "data_df = pd.read_csv('Data/who_life_exp.csv')"
   ]
  },
  {
   "cell_type": "code",
   "execution_count": null,
   "id": "4715479e-de9d-4e62-b05e-aa0b53a4955f",
   "metadata": {},
   "outputs": [],
   "source": [
    "data_df.head()"
   ]
  },
  {
   "cell_type": "code",
   "execution_count": null,
   "id": "71d3aafd-88e3-4a5c-b1b7-6e30a1eab779",
   "metadata": {},
   "outputs": [],
   "source": [
    "num_rows, num_cols = data_df.shape"
   ]
  },
  {
   "cell_type": "code",
   "execution_count": null,
   "id": "6d86022c-9871-413f-8c97-b9cd628ad547",
   "metadata": {},
   "outputs": [],
   "source": [
    "num_rows, num_cols"
   ]
  },
  {
   "cell_type": "code",
   "execution_count": null,
   "id": "36d168ee-19d9-404c-a96e-e807069730f3",
   "metadata": {},
   "outputs": [],
   "source": [
    "data_df.duplicated().sum()"
   ]
  }
 ],
 "metadata": {
  "kernelspec": {
   "display_name": "Python 3 (ipykernel)",
   "language": "python",
   "name": "python3"
  },
  "language_info": {
   "codemirror_mode": {
    "name": "ipython",
    "version": 3
   },
   "file_extension": ".py",
   "mimetype": "text/x-python",
   "name": "python",
   "nbconvert_exporter": "python",
   "pygments_lexer": "ipython3",
   "version": "3.10.8"
  }
 },
 "nbformat": 4,
 "nbformat_minor": 5
}
