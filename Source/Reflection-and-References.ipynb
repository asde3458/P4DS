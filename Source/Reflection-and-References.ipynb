{
 "cells": [
  {
   "cell_type": "markdown",
   "id": "812d34cf-c02a-4a67-894b-b4cb7697f44c",
   "metadata": {},
   "source": [
    "<div style=\"text-align: left; background-color:#5A96E3; font-family:Times New Roman; color:#191414; padding: 12px; line-height:1.25;border-radius:1px; margin-bottom: 0em; text-align: center; font-size: 40px;border-style: solid;border-color:#5A96E3;\"><strong>Reflection and References</strong></div>"
   ]
  },
  {
   "cell_type": "markdown",
   "id": "bba020b2-876b-4604-b878-1c9242031117",
   "metadata": {},
   "source": [
    "---"
   ]
  },
  {
   "cell_type": "markdown",
   "id": "34f89b4d-514f-4a15-a722-90b11155ebcd",
   "metadata": {},
   "source": [
    "# 5. Reflection"
   ]
  },
  {
   "cell_type": "markdown",
   "id": "60086a7a-6b9d-4640-994b-fe50040f5aea",
   "metadata": {},
   "source": [
    "- Với mỗi thành viên:\n",
    "    - Bùi Kim Phúc:\n",
    "        - Những gì học được: Nắm vững hơn về quy trình khoa học dữ liệu. Học được cách sử dụng Git và Github, cách sử dụng các thư viện pandas,numpy...\n",
    "        - Khó khăn: Khó khăn trong việc trong việc trả lời câu hỏi bằng các mô hình, đặt câu hỏi sao cho có ý nghĩa. Còn gặp vấn đề trong việc sử dụng git và github\n",
    "    - Nguyễn Hà Hạnh Giang:\n",
    "        - Những gì học được: Ứng dụng của các thư viện pandas, numpy, matplotlib, seaborn, ...; quá trình phân tích một dataset, từ đó rút ra những nhận xét có ý nghĩa; 1 cách xử lý dữ liệu bị thiếu khi tỷ lệ missing ratio tương đối lớn; tra cứu và tìm kiếm thông tin; sử dụng Git và GitHub. \n",
    "        - Khó khăn: Đặt câu hỏi có ý nghĩa và trả lời câu hỏi đầy đủ; sử dụng các thư viện có sẵn để cài đặt theo mong muốn.\n",
    "- Với cả nhóm: Nếu có thêm thời gian, nhóm sẽ thực hiện:\n",
    "    - Tìm hiểu thêm các cột dữ liệu chưa được khai thác và đặt câu hỏi liên quan.\n",
    "    - Nghiên cứu phương pháp điền dữ liệu bị thiếu hợp lý hơn và phù hợp hơn với câu hỏi tương ứng.\n",
    "    - Tìm hiểu sự khác nhau giữa dữ liệu được thu thập bởi 2 nguồn khác nhau."
   ]
  },
  {
   "cell_type": "markdown",
   "id": "59da5780-7570-471e-ad4d-fb021aed3c06",
   "metadata": {},
   "source": [
    "# 6. References"
   ]
  },
  {
   "cell_type": "markdown",
   "id": "3e7f21b9-5e20-47b2-a4a1-b88c6fc5a6c5",
   "metadata": {},
   "source": [
    "- Slides bài giảng môn học.\n",
    "- Kaggle - WHO national life expectancy dataset: https://www.kaggle.com/datasets/mmattson/who-national-life-expectancy\n",
    "- Kaggle - Global Health Data Analysis: https://www.kaggle.com/code/benbcoleman/global-health-data-analysis\n",
    "- GitHub - baohuyvanba/hcmus_dsp_finalproject_CSC17104: https://github.com/baohuyvanba/hcmus_dsp_finalproject_CSC17104\n",
    "- pandas documentation: https://pandas.pydata.org/docs/index.html\n",
    "- stackoverflow: https://stackoverflow.com/"
   ]
  }
 ],
 "metadata": {
  "kernelspec": {
   "display_name": "Python 3 (ipykernel)",
   "language": "python",
   "name": "python3"
  },
  "language_info": {
   "codemirror_mode": {
    "name": "ipython",
    "version": 3
   },
   "file_extension": ".py",
   "mimetype": "text/x-python",
   "name": "python",
   "nbconvert_exporter": "python",
   "pygments_lexer": "ipython3",
   "version": "3.10.8"
  }
 },
 "nbformat": 4,
 "nbformat_minor": 5
}
